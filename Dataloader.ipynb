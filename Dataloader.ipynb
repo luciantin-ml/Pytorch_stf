{
 "cells": [
  {
   "cell_type": "markdown",
   "id": "liberal-massachusetts",
   "metadata": {},
   "source": [
    "1. dataset class\n",
    "2. transform to tensor\n",
    "3. DataLoader class"
   ]
  },
  {
   "cell_type": "code",
   "execution_count": 1,
   "id": "swedish-banner",
   "metadata": {
    "scrolled": true
   },
   "outputs": [
    {
     "name": "stdout",
     "output_type": "stream",
     "text": [
      "torch.Size([1, 1, 28, 28]) tensor([5]) (28, 28)\n"
     ]
    },
    {
     "data": {
      "image/png": "[encoded data removed]",
      "text/plain": [
       "<Figure size 432x288 with 1 Axes>"
      ]
     },
     "metadata": {
      "needs_background": "light"
     },
     "output_type": "display_data"
    }
   ],
   "source": [
    "from torch.utils.data import DataLoader\n",
    "from torchvision.datasets import MNIST\n",
    "import matplotlib.pyplot as plt\n",
    "from torchvision import transforms\n",
    "\n",
    "transform = transforms.Compose([\n",
    "    transforms.ToTensor()\n",
    "])\n",
    "\n",
    "dataset = MNIST('./mnist_data', train=True, download=True, transform = transform)\n",
    "\n",
    "loader = DataLoader(\n",
    "    dataset, # dataset class\n",
    "    batch_size=1,  # number of training samples used in one iteration\n",
    "    shuffle=False,\n",
    "    num_workers=1,\n",
    "#     collate_fn=None,  # if we want to merge datasets\n",
    "#     pin_memory=False,  # Loading data on CUDA tensors\n",
    " )\n",
    "\n",
    "\n",
    "loader_iter = iter(loader)\n",
    "data = next(loader_iter)\n",
    "image = data[0].cpu()  # transform tensor to np array, make sure its on the cpu\n",
    "# image = image.reshape(1,0)\n",
    "# imge = image.reshape([1,2,3])\n",
    "print(data[0].shape, data[1], image.squeeze().numpy().shape)\n",
    "\n",
    "plt.imshow( image.squeeze().numpy(), cmap='gray')\n",
    "plt.show()"
   ]
  },
  {
   "cell_type": "markdown",
   "id": "aerial-builder",
   "metadata": {},
   "source": [
    "![Image](https://i.stack.imgur.com/zSZ3a.png)"
   ]
  },
  {
   "cell_type": "markdown",
   "id": "invalid-services",
   "metadata": {},
   "source": [
    "# Custom DataLoader"
   ]
  },
  {
   "cell_type": "code",
   "execution_count": 8,
   "id": "public-coffee",
   "metadata": {},
   "outputs": [
    {
     "name": "stdout",
     "output_type": "stream",
     "text": [
      "65\n",
      "2\n",
      "len je 4 jer je batch size 32 a Dataset size 128\n"
     ]
    }
   ],
   "source": [
    "from torch.utils.data import Dataset, DataLoader\n",
    "\n",
    "class SquareDataset(Dataset):\n",
    "     def __init__(self, a=0, b=1):\n",
    "         super(Dataset, self).__init__()\n",
    "         assert a <= b\n",
    "         self.a = a\n",
    "         self.b = b\n",
    "        \n",
    "     def __len__(self): # ovo se mora definirati\n",
    "         return self.b - self.a + 1\n",
    "        \n",
    "     def __getitem__(self, index): # i ovo za uzeti  data, truth\n",
    "        assert self.a <= index <= self.b\n",
    "        return index, index**2\n",
    "\n",
    "data_train = SquareDataset(a=0,b=64)\n",
    "data_train_loader = DataLoader(data_train, batch_size=64, shuffle=True)\n",
    "\n",
    "print(len(data_train))\n",
    "print(len(data_train_loader))\n",
    "print(\"len je 4 jer je batch size 32 a Dataset size 128\")\n"
   ]
  },
  {
   "cell_type": "markdown",
   "id": "pretty-quebec",
   "metadata": {},
   "source": [
    "# Iteracija"
   ]
  },
  {
   "cell_type": "code",
   "execution_count": 10,
   "id": "secondary-lithuania",
   "metadata": {},
   "outputs": [
    {
     "name": "stdout",
     "output_type": "stream",
     "text": [
      "tensor([ 2, 54, 28, 19, 13, 53, 57,  4,  1,  3, 26, 46,  9, 30, 42, 37]) tensor([   4, 2916,  784,  361,  169, 2809, 3249,   16,    1,    9,  676, 2116,\n",
      "          81,  900, 1764, 1369])\n",
      "tensor([48, 60, 16,  7, 14, 24, 51, 15, 10, 45, 56, 32, 39, 29, 17,  5]) tensor([2304, 3600,  256,   49,  196,  576, 2601,  225,  100, 2025, 3136, 1024,\n",
      "        1521,  841,  289,   25])\n",
      "tensor([22, 27, 64, 12, 20, 62, 34, 49, 33, 63, 58, 38, 21, 50, 31, 36]) tensor([ 484,  729, 4096,  144,  400, 3844, 1156, 2401, 1089, 3969, 3364, 1444,\n",
      "         441, 2500,  961, 1296])\n",
      "tensor([44,  0, 47, 11, 52, 41,  6, 35, 40, 55, 25,  8, 61, 59, 43, 23]) tensor([1936,    0, 2209,  121, 2704, 1681,   36, 1225, 1600, 3025,  625,   64,\n",
      "        3721, 3481, 1849,  529])\n",
      "tensor([18]) tensor([324])\n"
     ]
    }
   ],
   "source": [
    "data_train = SquareDataset(a=0,b=64)\n",
    "data_train_loader = DataLoader(data_train, batch_size=16, shuffle=True)\n",
    "\n",
    "for idx,(x, y) in enumerate(data_train_loader):\n",
    "    print(x,y)"
   ]
  }
 ],
 "metadata": {
  "kernelspec": {
   "display_name": "Python 3",
   "language": "python",
   "name": "python3"
  },
  "language_info": {
   "codemirror_mode": {
    "name": "ipython",
    "version": 3
   },
   "file_extension": ".py",
   "mimetype": "text/x-python",
   "name": "python",
   "nbconvert_exporter": "python",
   "pygments_lexer": "ipython3",
   "version": "3.8.5"
  }
 },
 "nbformat": 4,
 "nbformat_minor": 5
}
